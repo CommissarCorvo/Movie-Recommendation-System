{
 "cells": [
  {
   "cell_type": "code",
   "id": "initial_id",
   "metadata": {
    "collapsed": true,
    "ExecuteTime": {
     "end_time": "2024-04-23T17:14:47.445407Z",
     "start_time": "2024-04-23T17:14:47.326010Z"
    }
   },
   "source": [
    "import pandas as pd \n",
    "\n",
    "movies = pd.read_csv('movies.csv')"
   ],
   "outputs": [],
   "execution_count": 97
  },
  {
   "metadata": {
    "ExecuteTime": {
     "end_time": "2024-04-23T17:14:47.736563Z",
     "start_time": "2024-04-23T17:14:47.447417Z"
    }
   },
   "cell_type": "code",
   "source": "movies",
   "id": "d7d8ec6a19864e86",
   "outputs": [
    {
     "data": {
      "text/plain": [
       "       movieId                               title  \\\n",
       "0            1                    Toy Story (1995)   \n",
       "1            2                      Jumanji (1995)   \n",
       "2            3             Grumpier Old Men (1995)   \n",
       "3            4            Waiting to Exhale (1995)   \n",
       "4            5  Father of the Bride Part II (1995)   \n",
       "...        ...                                 ...   \n",
       "62418   209157                           We (2018)   \n",
       "62419   209159           Window of the Soul (2001)   \n",
       "62420   209163                    Bad Poems (2018)   \n",
       "62421   209169                 A Girl Thing (2001)   \n",
       "62422   209171      Women of Devil's Island (1962)   \n",
       "\n",
       "                                            genres  \n",
       "0      Adventure|Animation|Children|Comedy|Fantasy  \n",
       "1                       Adventure|Children|Fantasy  \n",
       "2                                   Comedy|Romance  \n",
       "3                             Comedy|Drama|Romance  \n",
       "4                                           Comedy  \n",
       "...                                            ...  \n",
       "62418                                        Drama  \n",
       "62419                                  Documentary  \n",
       "62420                                 Comedy|Drama  \n",
       "62421                           (no genres listed)  \n",
       "62422                       Action|Adventure|Drama  \n",
       "\n",
       "[62423 rows x 3 columns]"
      ],
      "text/html": [
       "<div>\n",
       "<style scoped>\n",
       "    .dataframe tbody tr th:only-of-type {\n",
       "        vertical-align: middle;\n",
       "    }\n",
       "\n",
       "    .dataframe tbody tr th {\n",
       "        vertical-align: top;\n",
       "    }\n",
       "\n",
       "    .dataframe thead th {\n",
       "        text-align: right;\n",
       "    }\n",
       "</style>\n",
       "<table border=\"1\" class=\"dataframe\">\n",
       "  <thead>\n",
       "    <tr style=\"text-align: right;\">\n",
       "      <th></th>\n",
       "      <th>movieId</th>\n",
       "      <th>title</th>\n",
       "      <th>genres</th>\n",
       "    </tr>\n",
       "  </thead>\n",
       "  <tbody>\n",
       "    <tr>\n",
       "      <th>0</th>\n",
       "      <td>1</td>\n",
       "      <td>Toy Story (1995)</td>\n",
       "      <td>Adventure|Animation|Children|Comedy|Fantasy</td>\n",
       "    </tr>\n",
       "    <tr>\n",
       "      <th>1</th>\n",
       "      <td>2</td>\n",
       "      <td>Jumanji (1995)</td>\n",
       "      <td>Adventure|Children|Fantasy</td>\n",
       "    </tr>\n",
       "    <tr>\n",
       "      <th>2</th>\n",
       "      <td>3</td>\n",
       "      <td>Grumpier Old Men (1995)</td>\n",
       "      <td>Comedy|Romance</td>\n",
       "    </tr>\n",
       "    <tr>\n",
       "      <th>3</th>\n",
       "      <td>4</td>\n",
       "      <td>Waiting to Exhale (1995)</td>\n",
       "      <td>Comedy|Drama|Romance</td>\n",
       "    </tr>\n",
       "    <tr>\n",
       "      <th>4</th>\n",
       "      <td>5</td>\n",
       "      <td>Father of the Bride Part II (1995)</td>\n",
       "      <td>Comedy</td>\n",
       "    </tr>\n",
       "    <tr>\n",
       "      <th>...</th>\n",
       "      <td>...</td>\n",
       "      <td>...</td>\n",
       "      <td>...</td>\n",
       "    </tr>\n",
       "    <tr>\n",
       "      <th>62418</th>\n",
       "      <td>209157</td>\n",
       "      <td>We (2018)</td>\n",
       "      <td>Drama</td>\n",
       "    </tr>\n",
       "    <tr>\n",
       "      <th>62419</th>\n",
       "      <td>209159</td>\n",
       "      <td>Window of the Soul (2001)</td>\n",
       "      <td>Documentary</td>\n",
       "    </tr>\n",
       "    <tr>\n",
       "      <th>62420</th>\n",
       "      <td>209163</td>\n",
       "      <td>Bad Poems (2018)</td>\n",
       "      <td>Comedy|Drama</td>\n",
       "    </tr>\n",
       "    <tr>\n",
       "      <th>62421</th>\n",
       "      <td>209169</td>\n",
       "      <td>A Girl Thing (2001)</td>\n",
       "      <td>(no genres listed)</td>\n",
       "    </tr>\n",
       "    <tr>\n",
       "      <th>62422</th>\n",
       "      <td>209171</td>\n",
       "      <td>Women of Devil's Island (1962)</td>\n",
       "      <td>Action|Adventure|Drama</td>\n",
       "    </tr>\n",
       "  </tbody>\n",
       "</table>\n",
       "<p>62423 rows × 3 columns</p>\n",
       "</div>"
      ]
     },
     "execution_count": 98,
     "metadata": {},
     "output_type": "execute_result"
    }
   ],
   "execution_count": 98
  },
  {
   "metadata": {
    "ExecuteTime": {
     "end_time": "2024-04-23T17:14:47.944097Z",
     "start_time": "2024-04-23T17:14:47.738574Z"
    }
   },
   "cell_type": "code",
   "source": "movies['title'] = movies['title'].fillna('')",
   "id": "fbec559de6ed669d",
   "outputs": [],
   "execution_count": 99
  },
  {
   "metadata": {},
   "cell_type": "markdown",
   "source": "This fixed an error message I received that can occur while using TfidfVectorizer().fit_transform() when there are NaN values in my data. It expected a byte or a unicode string, but it encountered a NaN value, which is a typical indicator of missing data in pandas.\n",
   "id": "cde2c95ee8cc9c57"
  },
  {
   "metadata": {
    "ExecuteTime": {
     "end_time": "2024-04-23T17:14:48.010456Z",
     "start_time": "2024-04-23T17:14:47.945111Z"
    }
   },
   "cell_type": "code",
   "source": [
    "import re\n",
    "\n",
    "def clean_title(title):\n",
    "    title = re.sub(\"[^a-zA-Z0-9 ]\", \"\", title)\n",
    "    return title"
   ],
   "id": "e6033272f8543acf",
   "outputs": [],
   "execution_count": 100
  },
  {
   "metadata": {
    "ExecuteTime": {
     "end_time": "2024-04-23T17:14:48.204926Z",
     "start_time": "2024-04-23T17:14:48.012466Z"
    }
   },
   "cell_type": "code",
   "source": "movies[\"clean_title\"] = movies[\"title\"].apply(clean_title)",
   "id": "7a4578920f26cfbc",
   "outputs": [],
   "execution_count": 101
  },
  {
   "metadata": {
    "ExecuteTime": {
     "end_time": "2024-04-23T17:14:49.629993Z",
     "start_time": "2024-04-23T17:14:48.206712Z"
    }
   },
   "cell_type": "code",
   "source": [
    "from sklearn.feature_extraction.text import TfidfVectorizer\n",
    "\n",
    "vectorizer = TfidfVectorizer(ngram_range=(1,2), stop_words='english')\n",
    "\n",
    "tfidf = vectorizer.fit_transform(movies['title'])"
   ],
   "id": "c2a507d5bf325118",
   "outputs": [],
   "execution_count": 102
  },
  {
   "metadata": {
    "ExecuteTime": {
     "end_time": "2024-04-23T17:28:04.177819Z",
     "start_time": "2024-04-23T17:28:04.170735Z"
    }
   },
   "cell_type": "code",
   "source": [
    "from sklearn.metrics.pairwise import cosine_similarity\n",
    "import numpy as np\n",
    "\n",
    "def search(title):\n",
    "    title = clean_title(title)\n",
    "    query_vector = vectorizer.transform([title])\n",
    "    similarity = cosine_similarity(query_vector, tfidf).flatten()\n",
    "    indices = np.argpartition(similarity, -5)[-5:]\n",
    "    results = movies.iloc[indices].iloc[::-1]\n",
    "    \n",
    "    return results"
   ],
   "id": "4f8d2f10bb944e49",
   "outputs": [],
   "execution_count": 122
  },
  {
   "metadata": {
    "ExecuteTime": {
     "end_time": "2024-04-23T17:14:50.068028Z",
     "start_time": "2024-04-23T17:14:49.639281Z"
    }
   },
   "cell_type": "code",
   "source": [
    "import ipywidgets as widgets\n",
    "from IPython.display import display\n",
    "\n",
    "movie_input = widgets.Text(\n",
    "    value='',\n",
    "    description='Movie Title:',\n",
    "    disabled=False\n",
    ")\n",
    "movie_list = widgets.Output()\n",
    "\n",
    "def on_type(data):\n",
    "    with movie_list:\n",
    "        movie_list.clear_output()\n",
    "        title = data[\"new\"]\n",
    "        if len(title) > 2:\n",
    "            display(search(title))\n",
    "\n",
    "movie_input.observe(on_type, names='value')\n",
    "\n",
    "\n",
    "display(movie_input, movie_list)"
   ],
   "id": "727ae0a7f8d9fa2b",
   "outputs": [
    {
     "data": {
      "text/plain": [
       "Text(value='', description='Movie Title:')"
      ],
      "application/vnd.jupyter.widget-view+json": {
       "version_major": 2,
       "version_minor": 0,
       "model_id": "a0f96b12b30f474ba5335ff41043d76c"
      }
     },
     "metadata": {},
     "output_type": "display_data"
    },
    {
     "data": {
      "text/plain": [
       "Output()"
      ],
      "application/vnd.jupyter.widget-view+json": {
       "version_major": 2,
       "version_minor": 0,
       "model_id": "a172cdd638814bd697236b9eddc76eb2"
      }
     },
     "metadata": {},
     "output_type": "display_data"
    }
   ],
   "execution_count": 104
  },
  {
   "metadata": {
    "ExecuteTime": {
     "end_time": "2024-04-23T17:15:03.511635Z",
     "start_time": "2024-04-23T17:14:50.070047Z"
    }
   },
   "cell_type": "code",
   "source": "ratings = pd.read_csv(\"ratings.csv\")",
   "id": "9d1f85b38c788c93",
   "outputs": [],
   "execution_count": 105
  },
  {
   "metadata": {
    "ExecuteTime": {
     "end_time": "2024-04-23T17:15:03.519615Z",
     "start_time": "2024-04-23T17:15:03.513650Z"
    }
   },
   "cell_type": "code",
   "source": [
    "movie_id = 2021\n",
    "movie = movies[movies[\"movieId\"] == movie_id]"
   ],
   "id": "ea1128d43394e883",
   "outputs": [],
   "execution_count": 106
  },
  {
   "metadata": {
    "ExecuteTime": {
     "end_time": "2024-04-23T17:15:04.380869Z",
     "start_time": "2024-04-23T17:15:03.522307Z"
    }
   },
   "cell_type": "code",
   "source": [
    "similar_users = ratings[(ratings[\"movieId\"] == movie_id) & (ratings[\"rating\"] > 4)][\"userId\"].unique()\n",
    "\n",
    "similar_user_recs = ratings[(ratings[\"userId\"].isin(similar_users)) & (ratings[\"rating\"] > 4)][\"movieId\"]"
   ],
   "id": "ff27a1c49c73870c",
   "outputs": [],
   "execution_count": 107
  },
  {
   "metadata": {
    "ExecuteTime": {
     "end_time": "2024-04-23T17:15:04.395322Z",
     "start_time": "2024-04-23T17:15:04.382891Z"
    }
   },
   "cell_type": "code",
   "source": [
    "similar_user_recs = similar_user_recs.value_counts() / len(similar_users)\n",
    "\n",
    "similar_user_recs = similar_user_recs[similar_user_recs > .10]"
   ],
   "id": "5e05600113c400ae",
   "outputs": [],
   "execution_count": 108
  },
  {
   "metadata": {
    "ExecuteTime": {
     "end_time": "2024-04-23T17:15:05.400851Z",
     "start_time": "2024-04-23T17:15:04.397026Z"
    }
   },
   "cell_type": "code",
   "source": "all_users = ratings[(ratings[\"movieId\"].isin(similar_user_recs.index)) & (ratings[\"rating\"] > 4)]",
   "id": "b2774ab8082af387",
   "outputs": [],
   "execution_count": 109
  },
  {
   "metadata": {
    "ExecuteTime": {
     "end_time": "2024-04-23T17:15:05.467310Z",
     "start_time": "2024-04-23T17:15:05.401862Z"
    }
   },
   "cell_type": "code",
   "source": "all_user_recs = all_users[\"movieId\"].value_counts() / len(all_users[\"userId\"].unique())",
   "id": "7ee5ee597c8847d",
   "outputs": [],
   "execution_count": 110
  },
  {
   "metadata": {
    "ExecuteTime": {
     "end_time": "2024-04-23T17:15:05.681932Z",
     "start_time": "2024-04-23T17:15:05.468322Z"
    }
   },
   "cell_type": "code",
   "source": [
    "rec_percentages = pd.concat([similar_user_recs, all_user_recs], axis=1)\n",
    "rec_percentages.columns = [\"similar\", \"all\"]"
   ],
   "id": "4a54233c2b80ad11",
   "outputs": [],
   "execution_count": 111
  },
  {
   "metadata": {
    "ExecuteTime": {
     "end_time": "2024-04-23T17:15:05.909351Z",
     "start_time": "2024-04-23T17:15:05.683945Z"
    }
   },
   "cell_type": "code",
   "source": "rec_percentages",
   "id": "18cbe6a1b265eca6",
   "outputs": [
    {
     "data": {
      "text/plain": [
       "          similar       all\n",
       "movieId                    \n",
       "2021     1.000000  0.010315\n",
       "260      0.625712  0.219211\n",
       "2571     0.609880  0.240743\n",
       "541      0.582647  0.113450\n",
       "1196     0.578214  0.185494\n",
       "...           ...       ...\n",
       "4262     0.103230  0.035957\n",
       "1234     0.102597  0.043594\n",
       "1262     0.101963  0.029189\n",
       "5349     0.101330  0.032762\n",
       "70286    0.100697  0.037982\n",
       "\n",
       "[201 rows x 2 columns]"
      ],
      "text/html": [
       "<div>\n",
       "<style scoped>\n",
       "    .dataframe tbody tr th:only-of-type {\n",
       "        vertical-align: middle;\n",
       "    }\n",
       "\n",
       "    .dataframe tbody tr th {\n",
       "        vertical-align: top;\n",
       "    }\n",
       "\n",
       "    .dataframe thead th {\n",
       "        text-align: right;\n",
       "    }\n",
       "</style>\n",
       "<table border=\"1\" class=\"dataframe\">\n",
       "  <thead>\n",
       "    <tr style=\"text-align: right;\">\n",
       "      <th></th>\n",
       "      <th>similar</th>\n",
       "      <th>all</th>\n",
       "    </tr>\n",
       "    <tr>\n",
       "      <th>movieId</th>\n",
       "      <th></th>\n",
       "      <th></th>\n",
       "    </tr>\n",
       "  </thead>\n",
       "  <tbody>\n",
       "    <tr>\n",
       "      <th>2021</th>\n",
       "      <td>1.000000</td>\n",
       "      <td>0.010315</td>\n",
       "    </tr>\n",
       "    <tr>\n",
       "      <th>260</th>\n",
       "      <td>0.625712</td>\n",
       "      <td>0.219211</td>\n",
       "    </tr>\n",
       "    <tr>\n",
       "      <th>2571</th>\n",
       "      <td>0.609880</td>\n",
       "      <td>0.240743</td>\n",
       "    </tr>\n",
       "    <tr>\n",
       "      <th>541</th>\n",
       "      <td>0.582647</td>\n",
       "      <td>0.113450</td>\n",
       "    </tr>\n",
       "    <tr>\n",
       "      <th>1196</th>\n",
       "      <td>0.578214</td>\n",
       "      <td>0.185494</td>\n",
       "    </tr>\n",
       "    <tr>\n",
       "      <th>...</th>\n",
       "      <td>...</td>\n",
       "      <td>...</td>\n",
       "    </tr>\n",
       "    <tr>\n",
       "      <th>4262</th>\n",
       "      <td>0.103230</td>\n",
       "      <td>0.035957</td>\n",
       "    </tr>\n",
       "    <tr>\n",
       "      <th>1234</th>\n",
       "      <td>0.102597</td>\n",
       "      <td>0.043594</td>\n",
       "    </tr>\n",
       "    <tr>\n",
       "      <th>1262</th>\n",
       "      <td>0.101963</td>\n",
       "      <td>0.029189</td>\n",
       "    </tr>\n",
       "    <tr>\n",
       "      <th>5349</th>\n",
       "      <td>0.101330</td>\n",
       "      <td>0.032762</td>\n",
       "    </tr>\n",
       "    <tr>\n",
       "      <th>70286</th>\n",
       "      <td>0.100697</td>\n",
       "      <td>0.037982</td>\n",
       "    </tr>\n",
       "  </tbody>\n",
       "</table>\n",
       "<p>201 rows × 2 columns</p>\n",
       "</div>"
      ]
     },
     "execution_count": 112,
     "metadata": {},
     "output_type": "execute_result"
    }
   ],
   "execution_count": 112
  },
  {
   "metadata": {
    "ExecuteTime": {
     "end_time": "2024-04-23T17:15:05.996660Z",
     "start_time": "2024-04-23T17:15:05.910361Z"
    }
   },
   "cell_type": "code",
   "source": "rec_percentages[\"score\"] = rec_percentages[\"similar\"] / rec_percentages[\"all\"]",
   "id": "f7ddd2083cae2a5a",
   "outputs": [],
   "execution_count": 113
  },
  {
   "metadata": {
    "ExecuteTime": {
     "end_time": "2024-04-23T17:15:06.214646Z",
     "start_time": "2024-04-23T17:15:05.998675Z"
    }
   },
   "cell_type": "code",
   "source": "rec_percentages = rec_percentages.sort_values(\"score\", ascending=False)",
   "id": "53112bec4c65f358",
   "outputs": [],
   "execution_count": 114
  },
  {
   "metadata": {
    "ExecuteTime": {
     "end_time": "2024-04-23T17:15:06.297952Z",
     "start_time": "2024-04-23T17:15:06.218659Z"
    }
   },
   "cell_type": "code",
   "source": "rec_percentages.head(10).merge(movies, left_index=True, right_on=\"movieId\")",
   "id": "95a7875f9b709cd2",
   "outputs": [
    {
     "data": {
      "text/plain": [
       "       similar       all      score  movieId                          title  \\\n",
       "1932  1.000000  0.010315  96.942369     2021                    Dune (1984)   \n",
       "2015  0.181761  0.009087  20.001768     2105                    Tron (1982)   \n",
       "1530  0.103863  0.006807  15.257724     1587     Conan the Barbarian (1982)   \n",
       "2103  0.149462  0.010250  14.581516     2193                  Willow (1988)   \n",
       "2050  0.172261  0.011818  14.576188     2140       Dark Crystal, The (1982)   \n",
       "2780  0.105130  0.008035  13.083279     2872               Excalibur (1981)   \n",
       "2876  0.138062  0.011021  12.527230     2968            Time Bandits (1981)   \n",
       "3601  0.129829  0.011041  11.759281     3702                 Mad Max (1979)   \n",
       "1242  0.169728  0.016509  10.281185     1275              Highlander (1986)   \n",
       "2071  0.131096  0.013582   9.652270     2161  NeverEnding Story, The (1984)   \n",
       "\n",
       "                               genres                 clean_title  \n",
       "1932                 Adventure|Sci-Fi                   Dune 1984  \n",
       "2015          Action|Adventure|Sci-Fi                   Tron 1982  \n",
       "1530         Action|Adventure|Fantasy    Conan the Barbarian 1982  \n",
       "2103         Action|Adventure|Fantasy                 Willow 1988  \n",
       "2050                Adventure|Fantasy       Dark Crystal The 1982  \n",
       "2780                Adventure|Fantasy              Excalibur 1981  \n",
       "2876  Adventure|Comedy|Fantasy|Sci-Fi           Time Bandits 1981  \n",
       "3601          Action|Adventure|Sci-Fi                Mad Max 1979  \n",
       "1242         Action|Adventure|Fantasy             Highlander 1986  \n",
       "2071       Adventure|Children|Fantasy  NeverEnding Story The 1984  "
      ],
      "text/html": [
       "<div>\n",
       "<style scoped>\n",
       "    .dataframe tbody tr th:only-of-type {\n",
       "        vertical-align: middle;\n",
       "    }\n",
       "\n",
       "    .dataframe tbody tr th {\n",
       "        vertical-align: top;\n",
       "    }\n",
       "\n",
       "    .dataframe thead th {\n",
       "        text-align: right;\n",
       "    }\n",
       "</style>\n",
       "<table border=\"1\" class=\"dataframe\">\n",
       "  <thead>\n",
       "    <tr style=\"text-align: right;\">\n",
       "      <th></th>\n",
       "      <th>similar</th>\n",
       "      <th>all</th>\n",
       "      <th>score</th>\n",
       "      <th>movieId</th>\n",
       "      <th>title</th>\n",
       "      <th>genres</th>\n",
       "      <th>clean_title</th>\n",
       "    </tr>\n",
       "  </thead>\n",
       "  <tbody>\n",
       "    <tr>\n",
       "      <th>1932</th>\n",
       "      <td>1.000000</td>\n",
       "      <td>0.010315</td>\n",
       "      <td>96.942369</td>\n",
       "      <td>2021</td>\n",
       "      <td>Dune (1984)</td>\n",
       "      <td>Adventure|Sci-Fi</td>\n",
       "      <td>Dune 1984</td>\n",
       "    </tr>\n",
       "    <tr>\n",
       "      <th>2015</th>\n",
       "      <td>0.181761</td>\n",
       "      <td>0.009087</td>\n",
       "      <td>20.001768</td>\n",
       "      <td>2105</td>\n",
       "      <td>Tron (1982)</td>\n",
       "      <td>Action|Adventure|Sci-Fi</td>\n",
       "      <td>Tron 1982</td>\n",
       "    </tr>\n",
       "    <tr>\n",
       "      <th>1530</th>\n",
       "      <td>0.103863</td>\n",
       "      <td>0.006807</td>\n",
       "      <td>15.257724</td>\n",
       "      <td>1587</td>\n",
       "      <td>Conan the Barbarian (1982)</td>\n",
       "      <td>Action|Adventure|Fantasy</td>\n",
       "      <td>Conan the Barbarian 1982</td>\n",
       "    </tr>\n",
       "    <tr>\n",
       "      <th>2103</th>\n",
       "      <td>0.149462</td>\n",
       "      <td>0.010250</td>\n",
       "      <td>14.581516</td>\n",
       "      <td>2193</td>\n",
       "      <td>Willow (1988)</td>\n",
       "      <td>Action|Adventure|Fantasy</td>\n",
       "      <td>Willow 1988</td>\n",
       "    </tr>\n",
       "    <tr>\n",
       "      <th>2050</th>\n",
       "      <td>0.172261</td>\n",
       "      <td>0.011818</td>\n",
       "      <td>14.576188</td>\n",
       "      <td>2140</td>\n",
       "      <td>Dark Crystal, The (1982)</td>\n",
       "      <td>Adventure|Fantasy</td>\n",
       "      <td>Dark Crystal The 1982</td>\n",
       "    </tr>\n",
       "    <tr>\n",
       "      <th>2780</th>\n",
       "      <td>0.105130</td>\n",
       "      <td>0.008035</td>\n",
       "      <td>13.083279</td>\n",
       "      <td>2872</td>\n",
       "      <td>Excalibur (1981)</td>\n",
       "      <td>Adventure|Fantasy</td>\n",
       "      <td>Excalibur 1981</td>\n",
       "    </tr>\n",
       "    <tr>\n",
       "      <th>2876</th>\n",
       "      <td>0.138062</td>\n",
       "      <td>0.011021</td>\n",
       "      <td>12.527230</td>\n",
       "      <td>2968</td>\n",
       "      <td>Time Bandits (1981)</td>\n",
       "      <td>Adventure|Comedy|Fantasy|Sci-Fi</td>\n",
       "      <td>Time Bandits 1981</td>\n",
       "    </tr>\n",
       "    <tr>\n",
       "      <th>3601</th>\n",
       "      <td>0.129829</td>\n",
       "      <td>0.011041</td>\n",
       "      <td>11.759281</td>\n",
       "      <td>3702</td>\n",
       "      <td>Mad Max (1979)</td>\n",
       "      <td>Action|Adventure|Sci-Fi</td>\n",
       "      <td>Mad Max 1979</td>\n",
       "    </tr>\n",
       "    <tr>\n",
       "      <th>1242</th>\n",
       "      <td>0.169728</td>\n",
       "      <td>0.016509</td>\n",
       "      <td>10.281185</td>\n",
       "      <td>1275</td>\n",
       "      <td>Highlander (1986)</td>\n",
       "      <td>Action|Adventure|Fantasy</td>\n",
       "      <td>Highlander 1986</td>\n",
       "    </tr>\n",
       "    <tr>\n",
       "      <th>2071</th>\n",
       "      <td>0.131096</td>\n",
       "      <td>0.013582</td>\n",
       "      <td>9.652270</td>\n",
       "      <td>2161</td>\n",
       "      <td>NeverEnding Story, The (1984)</td>\n",
       "      <td>Adventure|Children|Fantasy</td>\n",
       "      <td>NeverEnding Story The 1984</td>\n",
       "    </tr>\n",
       "  </tbody>\n",
       "</table>\n",
       "</div>"
      ]
     },
     "execution_count": 115,
     "metadata": {},
     "output_type": "execute_result"
    }
   ],
   "execution_count": 115
  },
  {
   "metadata": {
    "ExecuteTime": {
     "end_time": "2024-04-23T17:15:06.364542Z",
     "start_time": "2024-04-23T17:15:06.298960Z"
    }
   },
   "cell_type": "code",
   "source": [
    "def find_similar_movies(movie_id):\n",
    "    similar_users = ratings[(ratings[\"movieId\"] == movie_id) & (ratings[\"rating\"] > 4)][\"userId\"].unique()\n",
    "    \n",
    "    similar_user_recs = ratings[(ratings[\"userId\"].isin(similar_users)) & (ratings[\"rating\"] > 4)][\"movieId\"]\n",
    "    \n",
    "    similar_user_recs = similar_user_recs.value_counts() / len(similar_users)\n",
    "    \n",
    "    similar_user_recs = similar_user_recs[similar_user_recs > .10]\n",
    "    \n",
    "    all_users = ratings[(ratings[\"movieId\"].isin(similar_user_recs.index)) & (ratings[\"rating\"] > 4)]\n",
    "    \n",
    "    all_user_recs = all_users[\"movieId\"].value_counts() / len(all_users[\"userId\"].unique())\n",
    "    \n",
    "    rec_percentages = pd.concat([similar_user_recs, all_user_recs], axis=1)\n",
    "    \n",
    "    rec_percentages.columns = [\"similar\", \"all\"]\n",
    "    \n",
    "    rec_percentages[\"score\"] = rec_percentages[\"similar\"] / rec_percentages[\"all\"]\n",
    "    \n",
    "    rec_percentages = rec_percentages.sort_values(\"score\", ascending=False)\n",
    "    \n",
    "    return rec_percentages.head(20).merge(movies, left_index=True, right_on=\"movieId\")[[\"score\", \"title\", \"genres\"]]"
   ],
   "id": "7de79197dc306ddf",
   "outputs": [],
   "execution_count": 116
  },
  {
   "metadata": {
    "ExecuteTime": {
     "end_time": "2024-04-23T17:15:06.462264Z",
     "start_time": "2024-04-23T17:15:06.365550Z"
    }
   },
   "cell_type": "code",
   "source": [
    "import ipywidgets as widgets\n",
    "from IPython.display import display\n",
    "\n",
    "movie_name_input = widgets.Text(\n",
    "    value='',\n",
    "    description='Movie Title:',\n",
    "    disabled=False)\n",
    "\n",
    "recommendation_list = widgets.Output()\n",
    "\n",
    "\n",
    "def on_type(data):\n",
    "    with recommendation_list:\n",
    "        recommendation_list.clear_output()\n",
    "        title = data[\"new\"]\n",
    "        if len(title) > 2:\n",
    "            results = search(title)\n",
    "            movie_id = results.iloc[0][\"movieId\"]\n",
    "            display(find_similar_movies(movie_id))\n",
    "        return recommendation_list\n",
    "movie_name_input.observe(on_type, names='value')\n",
    "\n",
    "\n",
    "display(movie_name_input, recommendation_list)"
   ],
   "id": "6f28c7ddf360dba9",
   "outputs": [
    {
     "data": {
      "text/plain": [
       "Text(value='', description='Movie Title:')"
      ],
      "application/vnd.jupyter.widget-view+json": {
       "version_major": 2,
       "version_minor": 0,
       "model_id": "446f2823265b46f1acdc54f6c099a5cb"
      }
     },
     "metadata": {},
     "output_type": "display_data"
    },
    {
     "data": {
      "text/plain": [
       "Output()"
      ],
      "application/vnd.jupyter.widget-view+json": {
       "version_major": 2,
       "version_minor": 0,
       "model_id": "1a7fb15190504be29f05b7e8de32bc3c"
      }
     },
     "metadata": {},
     "output_type": "display_data"
    }
   ],
   "execution_count": 117
  },
  {
   "metadata": {
    "ExecuteTime": {
     "end_time": "2024-04-23T17:29:11.945294Z",
     "start_time": "2024-04-23T17:28:47.144541Z"
    }
   },
   "cell_type": "code",
   "source": [
    "import customtkinter as ctk\n",
    "import tkinter as tk\n",
    "from tkinter import messagebox\n",
    "from PIL import Image, ImageTk\n",
    "\n",
    "def find_movies(event=None):\n",
    "    movie_title = movie_box.get()\n",
    "    recommendation_box.delete('1.0', ctk.END)\n",
    "    try:\n",
    "        if len(movie_title) > 2:\n",
    "            results = search(movie_title)\n",
    "            movie_id = results.iloc[0][\"movieId\"]\n",
    "            similar_movies_results = find_similar_movies(movie_id)\n",
    "\n",
    "            for _, movie in similar_movies_results.iterrows():\n",
    "                recommendation_box.insert(ctk.END,\n",
    "                                          f\"Title: {movie['title']} | Rating: {movie['score']} | Genres: {', '.join(movie['genres'].split('|'))}\\n\\n\")\n",
    "    except Exception as ex:\n",
    "        messagebox.showerror(\"Error\", str(ex))\n",
    "\n",
    "\n",
    "ctk.set_appearance_mode(\"Dark\")\n",
    "ctk.set_default_color_theme(\"blue\")\n",
    "\n",
    "app = ctk.CTk()\n",
    "app.geometry(\"1920x1080\")\n",
    "app.title(\"Movie Recommendation System\")\n",
    "\n",
    "bg_image = tk.PhotoImage(file=\"dune_sardaukar.png\")\n",
    "\n",
    "bg_label = tk.Label(app, image=bg_image)\n",
    "bg_label.place(x=0, y=0, relwidth=1, relheight=1)\n",
    "\n",
    "title = ctk.CTkLabel(app, text=\"Enter a Movie Title\", font=(\"Arial\", 32), width=100, height=50)\n",
    "title.pack(padx=10, pady=10)\n",
    "\n",
    "movie_box = ctk.CTkEntry(app, width=920, height=40, corner_radius=30, border_width=1, font=(\"Arial\", 16))\n",
    "movie_box.pack(padx=10, pady=10)\n",
    "movie_box.bind('<KeyRelease>', find_movies)\n",
    "\n",
    "recommendation_box = ctk.CTkTextbox(app, width=920, height= 480, corner_radius=30, border_width=1)\n",
    "recommendation_box.pack(padx=10, pady=10)\n",
    "\n",
    "app.state('zoomed')\n",
    "app.mainloop()\n",
    "\n"
   ],
   "id": "a83cd5486adcfb61",
   "outputs": [],
   "execution_count": 124
  },
  {
   "metadata": {
    "ExecuteTime": {
     "end_time": "2024-04-23T17:15:23.759163Z",
     "start_time": "2024-04-23T17:15:23.751734Z"
    }
   },
   "cell_type": "code",
   "source": [
    "# dune_pic = ctk.CTkImage(light_image=Image.open(\"dune_sardaukar.png\"), dark_image=Image.open(\"dune_sardaukar.png\"), size=(920, 480))\n",
    "\n",
    "# dune_label = ctk.CTkLabel(app, text=\"\", image=dune_pic)\n",
    "# dune_label.pack(padx=10, pady=10)"
   ],
   "id": "43c0caba7eb771ee",
   "outputs": [],
   "execution_count": 119
  }
 ],
 "metadata": {
  "kernelspec": {
   "display_name": "Python 3",
   "language": "python",
   "name": "python3"
  },
  "language_info": {
   "codemirror_mode": {
    "name": "ipython",
    "version": 2
   },
   "file_extension": ".py",
   "mimetype": "text/x-python",
   "name": "python",
   "nbconvert_exporter": "python",
   "pygments_lexer": "ipython2",
   "version": "2.7.6"
  }
 },
 "nbformat": 4,
 "nbformat_minor": 5
}
